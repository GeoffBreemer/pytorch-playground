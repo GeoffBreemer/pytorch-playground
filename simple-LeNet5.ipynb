{
 "cells": [
  {
   "cell_type": "markdown",
   "metadata": {},
   "source": [
    "# Hello World! with PyTorch"
   ]
  },
  {
   "cell_type": "code",
   "execution_count": 1,
   "metadata": {},
   "outputs": [],
   "source": [
    "import numpy as np\n",
    "import matplotlib.pyplot as plt\n",
    "import time\n",
    "\n",
    "import torch\n",
    "from torchvision import datasets, transforms\n",
    "from torch import nn, optim\n",
    "import torch.nn.functional as F\n",
    "\n",
    "%matplotlib inline"
   ]
  },
  {
   "cell_type": "markdown",
   "metadata": {},
   "source": [
    "# Helper functions and contants"
   ]
  },
  {
   "cell_type": "code",
   "execution_count": 2,
   "metadata": {},
   "outputs": [],
   "source": [
    "NUM_EPOCH = 3\n",
    "IMG_HEIGHT = 28\n",
    "IMG_WIDTH = 28\n",
    "IMG_NUM_CHANNELS = 1\n",
    "BATCH_SIZE = 64\n",
    "LOG_EVERY = 100\n",
    "\n",
    "USE_LOGSOFTMAX = False\n",
    "USE_MNIST = False\n",
    "USE_SGD = False\n",
    "MNIST_CLASSES = [0, 1, 2, 3, 4, 5, 6, 7, 8, 9]\n",
    "FASHION_MNIST_CLASSES = [\"T-shirt/top\",\n",
    "                         \"Trouser\",\n",
    "                         \"Pullover\",\n",
    "                         \"Dress\",\n",
    "                         \"Coat\",\n",
    "                         \"Sandal\",\n",
    "                         \"Shirt\",\n",
    "                         \"Sneaker\",\n",
    "                         \"Bag\",\n",
    "                         \"Ankle Boot\"]\n",
    "\n",
    "CHECKPOINT_NAME = \"saved_models/lenet_check.pth\""
   ]
  },
  {
   "cell_type": "code",
   "execution_count": 3,
   "metadata": {},
   "outputs": [],
   "source": [
    "def view_img_prob(img, prob, y, classes):\n",
    "    \"\"\"Show an image and associated probability distribution\"\"\"\n",
    "    fig, (ax1, ax2) = plt.subplots(figsize=(6, 9), ncols=2)\n",
    "\n",
    "    ax1.imshow(img.numpy().squeeze(), cmap=\"gray\")\n",
    "    ax1.axis('off')\n",
    "    ax2.barh(np.arange(len(classes)), prob)\n",
    "    ax2.set_aspect(0.1)\n",
    "    ax2.set_yticks(np.arange(len(classes)))\n",
    "    ax2.set_yticklabels(classes)\n",
    "    ax2.set_title('Probabilities')\n",
    "    ax2.set_xlim(0, 1.0)\n",
    "    plt.tight_layout()\n",
    "    \n",
    "    print(\"Prediction: {} - Actual: {}\".format(classes[prob.argmax()], classes[y.numpy()]))"
   ]
  },
  {
   "cell_type": "code",
   "execution_count": 4,
   "metadata": {},
   "outputs": [],
   "source": [
    "def predict_one(model, loader):\n",
    "    \"\"\"Use the model to predict the class of the first image returned by the dataloader\"\"\"\n",
    "    # Grab the first batch\n",
    "    load_iter = iter(loader)\n",
    "    X, y = load_iter.next()\n",
    "\n",
    "    # Predict\n",
    "    with torch.no_grad():\n",
    "        if USE_LOGSOFTMAX:\n",
    "            logsoftmax = model.forward(X)\n",
    "            softmax = torch.exp(logsoftmax)\n",
    "        else:\n",
    "            logits = model.forward(X)\n",
    "            softmax = F.softmax(logits, dim=-1)\n",
    "    \n",
    "    softmax = softmax.numpy()\n",
    "\n",
    "    # Show one image\n",
    "    print(\"Softmax: {}\".format(softmax[0]))\n",
    "    view_img_prob(X[0], softmax[0], y[0], classes=CLASSES)"
   ]
  },
  {
   "cell_type": "markdown",
   "metadata": {},
   "source": [
    "# Create dataloaders\n",
    "Data is loaded if not already present."
   ]
  },
  {
   "cell_type": "code",
   "execution_count": 5,
   "metadata": {},
   "outputs": [],
   "source": [
    "# Prepare image pre-processing\n",
    "trans = transforms.Compose([transforms.ToTensor(),\n",
    "                            transforms.Normalize(mean=(0.5,), std=(0.5,))\n",
    "                           ])\n",
    "\n",
    "# Create the training data class\n",
    "if USE_MNIST:\n",
    "    train = datasets.MNIST(\"MNIST\", download=True, train=True, transform=trans)\n",
    "    test = datasets.MNIST(\"MNIST\", download=True, train=False, transform=trans)    \n",
    "    CLASSES = MNIST_CLASSES\n",
    "else:\n",
    "    train = datasets.FashionMNIST(\"FashionMNIST\", download=True, train=True, transform=trans)\n",
    "    test = datasets.FashionMNIST(\"FashionMNIST\", download=True, train=False, transform=trans)    \n",
    "    CLASSES = FASHION_MNIST_CLASSES\n",
    "    \n",
    "# Create the DataLoaders\n",
    "train_loader = torch.utils.data.DataLoader(train, batch_size=BATCH_SIZE, shuffle=True)\n",
    "test_loader = torch.utils.data.DataLoader(test, batch_size=BATCH_SIZE, shuffle=True)"
   ]
  },
  {
   "cell_type": "markdown",
   "metadata": {},
   "source": [
    "# Show an image\n",
    "Simply use the first image just to have a look."
   ]
  },
  {
   "cell_type": "code",
   "execution_count": 6,
   "metadata": {},
   "outputs": [
    {
     "name": "stdout",
     "output_type": "stream",
     "text": [
      "Class: Coat\n"
     ]
    },
    {
     "data": {
      "image/png": "[encoded data removed]",
      "text/plain": [
       "<Figure size 432x288 with 1 Axes>"
      ]
     },
     "metadata": {},
     "output_type": "display_data"
    }
   ],
   "source": [
    "train_iter = iter(train_loader)\n",
    "imgs, labels = train_iter.next()\n",
    "plt.imshow(imgs[0].numpy().squeeze(), cmap=\"gray\")\n",
    "print(\"Class: {}\".format(CLASSES[labels[0]]))"
   ]
  },
  {
   "cell_type": "markdown",
   "metadata": {},
   "source": [
    "# Build the network\n",
    "Not quite exactly the same as in the paper, but close enough. Does not use any special weight initalizers, just whatever PyTorch uses by default."
   ]
  },
  {
   "cell_type": "code",
   "execution_count": 7,
   "metadata": {},
   "outputs": [],
   "source": [
    "class Flatten(nn.Module):\n",
    "    def forward(self, x):\n",
    "        x = x.view(x.size()[0], -1)\n",
    "\n",
    "        return x\n",
    "    \n",
    "class LeNet5(nn.Module):\n",
    "    def __init__(self, num_channels):\n",
    "        super(LeNet5, self).__init__()\n",
    "        \n",
    "        self.c1 = nn.Conv2d(in_channels=num_channels, out_channels=6, kernel_size=(5,5), padding=2)\n",
    "        self.c3 = nn.Conv2d(in_channels=6, out_channels=16, kernel_size=(5, 5))\n",
    "        self.c5 = nn.Conv2d(in_channels=16, out_channels=120, kernel_size=(5, 5))\n",
    "        self.f6 = nn.Linear(in_features=120, out_features=84)\n",
    "        self.the_output = nn.Linear(in_features=84, out_features=10)        \n",
    "\n",
    "    def forward(self, x):\n",
    "        # C1, S2\n",
    "        x = F.tanh(self.c1(x))\n",
    "        x = F.max_pool2d(x, kernel_size=(2, 2), stride=(2, 2))\n",
    "\n",
    "        # C3, S4\n",
    "        x = F.tanh(self.c3(x))\n",
    "        x = F.max_pool2d(x, kernel_size=(2, 2), stride=(2, 2))\n",
    "        \n",
    "        # C5\n",
    "        x = self.c5(x)\n",
    "        x = F.tanh(x)\n",
    "        \n",
    "        # Flatten\n",
    "        x = Flatten().forward(x)\n",
    "\n",
    "        # F6\n",
    "        x = F.tanh(self.f6(x))\n",
    "        \n",
    "        # OUTPUT\n",
    "        x = self.the_output(x)\n",
    "        \n",
    "        # Either return the logits or the logsoftmax. In case of the former apply softmax\n",
    "        # to the logits to get the pobability distribution during inference. For the latter\n",
    "        # raise exp to the power of the logits\n",
    "        if USE_LOGSOFTMAX:\n",
    "            x = F.log_softmax(x, dim=-1)\n",
    "        \n",
    "        return x"
   ]
  },
  {
   "cell_type": "markdown",
   "metadata": {},
   "source": [
    "# Show the trainable layers"
   ]
  },
  {
   "cell_type": "code",
   "execution_count": 8,
   "metadata": {},
   "outputs": [
    {
     "data": {
      "text/plain": [
       "LeNet5(\n",
       "  (c1): Conv2d(1, 6, kernel_size=(5, 5), stride=(1, 1), padding=(2, 2))\n",
       "  (c3): Conv2d(6, 16, kernel_size=(5, 5), stride=(1, 1))\n",
       "  (c5): Conv2d(16, 120, kernel_size=(5, 5), stride=(1, 1))\n",
       "  (f6): Linear(in_features=120, out_features=84, bias=True)\n",
       "  (the_output): Linear(in_features=84, out_features=10, bias=True)\n",
       ")"
      ]
     },
     "execution_count": 8,
     "metadata": {},
     "output_type": "execute_result"
    }
   ],
   "source": [
    "lenet = LeNet5(IMG_NUM_CHANNELS)\n",
    "lenet"
   ]
  },
  {
   "cell_type": "markdown",
   "metadata": {},
   "source": [
    "# Predictions without training\n",
    "Pretty much a uniform distribution."
   ]
  },
  {
   "cell_type": "code",
   "execution_count": 9,
   "metadata": {},
   "outputs": [
    {
     "name": "stdout",
     "output_type": "stream",
     "text": [
      "Softmax: [0.09377991 0.09730095 0.0915037  0.10655672 0.10680462 0.09683373\n",
      " 0.10814308 0.10794176 0.09398476 0.09715076]\n",
      "Prediction: Shirt - Actual: Coat\n"
     ]
    },
    {
     "data": {
      "image/png": "[encoded data removed]",
      "text/plain": [
       "<Figure size 432x648 with 2 Axes>"
      ]
     },
     "metadata": {},
     "output_type": "display_data"
    }
   ],
   "source": [
    "predict_one(lenet, train_loader)"
   ]
  },
  {
   "cell_type": "markdown",
   "metadata": {},
   "source": [
    "# Train the model"
   ]
  },
  {
   "cell_type": "code",
   "execution_count": 10,
   "metadata": {},
   "outputs": [],
   "source": [
    "def validate(model, val_loader):\n",
    "    \"\"\"Calculate loss and accuracy of the model on the entire validation set\"\"\"\n",
    "    model.eval()\n",
    "    loss = 0\n",
    "    count = 0\n",
    "    correct = 0\n",
    "\n",
    "    with torch.no_grad():\n",
    "        for X_val, y_val in val_loader:\n",
    "            output = model.forward(X_val)\n",
    "            loss += crit(output, y_val)\n",
    "\n",
    "            if USE_LOGSOFTMAX:\n",
    "                pred = torch.exp(output)\n",
    "            else:\n",
    "                pred = F.softmax(output, dim=-1)\n",
    "\n",
    "            # Compare the actual labels to the argmax of the predictions\n",
    "            count += len(X_val)\n",
    "            correct += (y_val == pred.max(dim=-1)[1]).sum().item()\n",
    "\n",
    "    model.train()\n",
    "\n",
    "    return loss/len(val_loader), correct/count"
   ]
  },
  {
   "cell_type": "code",
   "execution_count": 11,
   "metadata": {},
   "outputs": [],
   "source": [
    "def train_model(model, crit, opt, trn_loader, val_loader):\n",
    "    \"\"\"Train the model using the provided loss function, optimiser, training set\n",
    "    data loader and validation set data loader\"\"\"\n",
    "    start_time = time.time()\n",
    "    model.zero_grad()\n",
    "\n",
    "    for e in range(NUM_EPOCH):\n",
    "        total_correct = 0\n",
    "        total_count = 0\n",
    "        total_loss = 0\n",
    "        run_loss = 0\n",
    "        batch = 0\n",
    "        \n",
    "        print(\"\\nEpoch: {}/{}\".format(e+1, NUM_EPOCH))\n",
    "        print(\"=======================\")\n",
    "\n",
    "        for batch, (X, y) in enumerate(trn_loader, 0):\n",
    "            model.train()\n",
    "            opt.zero_grad()\n",
    "\n",
    "            # Forward, backward and optimise\n",
    "            output = model.forward(X)\n",
    "            loss = crit(output, y)\n",
    "            loss.backward()\n",
    "            opt.step()\n",
    "\n",
    "            # Convert to probabilities\n",
    "            if USE_LOGSOFTMAX:\n",
    "                pred = torch.exp(output)\n",
    "            else:\n",
    "                pred = F.softmax(output, dim=-1)\n",
    "            \n",
    "            # Keep track of metrics\n",
    "            correct = (y == pred.max(dim=-1)[1]).sum().item()\n",
    "            total_count += len(X)\n",
    "            total_correct += correct\n",
    "            total_loss += loss\n",
    "            run_loss += loss\n",
    "            \n",
    "            if batch % LOG_EVERY == (LOG_EVERY-1):\n",
    "                # Print batch stats\n",
    "                print(\"Batch {:04d}/{:04d} - Trn_loss: {:.4f}, Trn_acc: {:6.2f}%\".format(batch+1, len(trn_loader), run_loss/LOG_EVERY, 100*(correct/len(X))))\n",
    "                \n",
    "                run_loss = 0\n",
    "\n",
    "        # Print epoch stats\n",
    "        val_loss, val_acc = validate(model, val_loader)\n",
    "        print(\"\\n                  Trn_loss: {:.4f}, Trn_acc: {:6.2f}% -\".format(total_loss/len(trn_loader), 100*(total_correct/total_count)),\n",
    "              \"Val_loss: {:.4f}, Val_acc: {:6.2f}%\".format(val_loss, 100*val_acc))\n",
    "\n",
    "    print(\"\\nTraining complete, elapsed time: {:2f}min.\".format((time.time() - start_time)/60))"
   ]
  },
  {
   "cell_type": "code",
   "execution_count": 13,
   "metadata": {},
   "outputs": [
    {
     "name": "stdout",
     "output_type": "stream",
     "text": [
      "\n",
      "Epoch: 1/3\n",
      "=======================\n",
      "Batch 0100/0938 - Trn_loss: 0.2719, Trn_acc:  82.81% -\n",
      "Batch 0200/0938 - Trn_loss: 0.2760, Trn_acc:  93.75% -\n",
      "Batch 0300/0938 - Trn_loss: 0.2574, Trn_acc:  87.50% -\n",
      "Batch 0400/0938 - Trn_loss: 0.2721, Trn_acc:  87.50% -\n",
      "Batch 0500/0938 - Trn_loss: 0.2717, Trn_acc:  87.50% -\n",
      "Batch 0600/0938 - Trn_loss: 0.2711, Trn_acc:  82.81% -\n",
      "Batch 0700/0938 - Trn_loss: 0.2750, Trn_acc:  92.19% -\n",
      "Batch 0800/0938 - Trn_loss: 0.2603, Trn_acc:  90.62% -\n",
      "Batch 0900/0938 - Trn_loss: 0.2578, Trn_acc:  93.75% -\n",
      "\n",
      "                  Trn_loss: 0.2673, Trn_acc:  90.18% - Val_loss: 0.2921, Val_acc:  89.00%\n",
      "\n",
      "Epoch: 2/3\n",
      "=======================\n",
      "Batch 0100/0938 - Trn_loss: 0.2344, Trn_acc:  89.06% -\n",
      "Batch 0200/0938 - Trn_loss: 0.2372, Trn_acc:  92.19% -\n",
      "Batch 0300/0938 - Trn_loss: 0.2401, Trn_acc:  87.50% -\n",
      "Batch 0400/0938 - Trn_loss: 0.2497, Trn_acc:  93.75% -\n",
      "Batch 0500/0938 - Trn_loss: 0.2556, Trn_acc:  95.31% -\n",
      "Batch 0600/0938 - Trn_loss: 0.2424, Trn_acc:  92.19% -\n",
      "Batch 0700/0938 - Trn_loss: 0.2453, Trn_acc:  92.19% -\n",
      "Batch 0800/0938 - Trn_loss: 0.2511, Trn_acc:  90.62% -\n",
      "Batch 0900/0938 - Trn_loss: 0.2411, Trn_acc:  87.50% -\n",
      "\n",
      "                  Trn_loss: 0.2442, Trn_acc:  91.03% - Val_loss: 0.2858, Val_acc:  89.58%\n",
      "\n",
      "Epoch: 3/3\n",
      "=======================\n",
      "Batch 0100/0938 - Trn_loss: 0.2232, Trn_acc:  90.62% -\n",
      "Batch 0200/0938 - Trn_loss: 0.2083, Trn_acc:  93.75% -\n",
      "Batch 0300/0938 - Trn_loss: 0.2284, Trn_acc:  90.62% -\n",
      "Batch 0400/0938 - Trn_loss: 0.2258, Trn_acc:  95.31% -\n",
      "Batch 0500/0938 - Trn_loss: 0.2162, Trn_acc:  89.06% -\n",
      "Batch 0600/0938 - Trn_loss: 0.2242, Trn_acc:  90.62% -\n",
      "Batch 0700/0938 - Trn_loss: 0.2346, Trn_acc:  92.19% -\n",
      "Batch 0800/0938 - Trn_loss: 0.2287, Trn_acc:  89.06% -\n",
      "Batch 0900/0938 - Trn_loss: 0.2289, Trn_acc:  85.94% -\n",
      "\n",
      "                  Trn_loss: 0.2252, Trn_acc:  91.72% - Val_loss: 0.2997, Val_acc:  89.07%\n",
      "\n",
      "Training complete, elapsed time: 2.501772min.\n"
     ]
    }
   ],
   "source": [
    "if USE_LOGSOFTMAX:\n",
    "    crit = nn.NLLoss()\n",
    "else:\n",
    "    crit = nn.CrossEntropyLoss()\n",
    "\n",
    "if USE_SGD:\n",
    "    opt = optim.SGD(lenet.parameters(), lr=0.001, momentum=0.9)\n",
    "else:\n",
    "    opt = optim.Adam(lenet.parameters(), lr=0.001)\n",
    "\n",
    "train_model(lenet, crit, opt, train_loader, test_loader)"
   ]
  },
  {
   "cell_type": "markdown",
   "metadata": {},
   "source": [
    "# Apply the trained model to a test set image"
   ]
  },
  {
   "cell_type": "code",
   "execution_count": 14,
   "metadata": {},
   "outputs": [
    {
     "name": "stdout",
     "output_type": "stream",
     "text": [
      "Softmax: [1.6545372e-04 7.5413834e-04 2.5542604e-02 7.8344128e-05 9.4203949e-01\n",
      " 7.2045150e-06 3.0005220e-02 5.2087676e-06 1.1326427e-03 2.6966995e-04]\n",
      "Prediction: Coat - Actual: Coat\n"
     ]
    },
    {
     "data": {
      "image/png": "[encoded data removed]",
      "text/plain": [
       "<Figure size 432x648 with 2 Axes>"
      ]
     },
     "metadata": {},
     "output_type": "display_data"
    }
   ],
   "source": [
    "predict_one(lenet, test_loader)"
   ]
  },
  {
   "cell_type": "markdown",
   "metadata": {},
   "source": [
    "# Save and load"
   ]
  },
  {
   "cell_type": "code",
   "execution_count": 15,
   "metadata": {},
   "outputs": [
    {
     "name": "stdout",
     "output_type": "stream",
     "text": [
      "Softmax: [2.0735479e-06 9.9987876e-01 1.0113017e-05 2.4107740e-05 8.1063503e-05\n",
      " 6.1914233e-07 1.7638280e-06 4.5496924e-07 5.6156743e-08 9.9288775e-07]\n",
      "Prediction: Trouser - Actual: Trouser\n"
     ]
    },
    {
     "data": {
      "image/png": "[encoded data removed]",
      "text/plain": [
       "<Figure size 432x648 with 2 Axes>"
      ]
     },
     "metadata": {},
     "output_type": "display_data"
    }
   ],
   "source": [
    "torch.save(lenet.state_dict(), CHECKPOINT_NAME)\n",
    "state = torch.load(CHECKPOINT_NAME)\n",
    "lenet_new = LeNet5(IMG_NUM_CHANNELS)\n",
    "lenet_new.load_state_dict(state)\n",
    "predict_one(lenet_new, test_loader)"
   ]
  },
  {
   "cell_type": "markdown",
   "metadata": {},
   "source": [
    "# End of notebook"
   ]
  }
 ],
 "metadata": {
  "kernelspec": {
   "display_name": "Python 3",
   "language": "python",
   "name": "python3"
  },
  "language_info": {
   "codemirror_mode": {
    "name": "ipython",
    "version": 3
   },
   "file_extension": ".py",
   "mimetype": "text/x-python",
   "name": "python",
   "nbconvert_exporter": "python",
   "pygments_lexer": "ipython3",
   "version": "3.6.5"
  }
 },
 "nbformat": 4,
 "nbformat_minor": 2
}
