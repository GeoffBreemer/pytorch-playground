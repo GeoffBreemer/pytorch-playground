{
 "cells": [
  {
   "cell_type": "markdown",
   "metadata": {},
   "source": [
    "# Hello World! with PyTorch"
   ]
  },
  {
   "cell_type": "code",
   "execution_count": 1,
   "metadata": {},
   "outputs": [],
   "source": [
    "import numpy as np\n",
    "import matplotlib.pyplot as plt\n",
    "import time\n",
    "\n",
    "import torch\n",
    "from torchvision import datasets, transforms\n",
    "from torch import nn, optim\n",
    "import torch.nn.functional as F\n",
    "\n",
    "%matplotlib inline"
   ]
  },
  {
   "cell_type": "markdown",
   "metadata": {},
   "source": [
    "# Helper functions and contants"
   ]
  },
  {
   "cell_type": "code",
   "execution_count": 2,
   "metadata": {},
   "outputs": [],
   "source": [
    "NUM_EPOCH = 3\n",
    "IMG_HEIGHT = 28\n",
    "IMG_WIDTH = 28\n",
    "IMG_NUM_CHANNELS = 1\n",
    "BATCH_SIZE = 64\n",
    "LOG_EVERY = 100\n",
    "\n",
    "USE_LOGSOFTMAX = False\n",
    "USE_MNIST = False\n",
    "USE_SGD = False\n",
    "MNIST_CLASSES = [0, 1, 2, 3, 4, 5, 6, 7, 8, 9]\n",
    "FASHION_MNIST_CLASSES = [\"T-shirt/top\",\n",
    "                         \"Trouser\",\n",
    "                         \"Pullover\",\n",
    "                         \"Dress\",\n",
    "                         \"Coat\",\n",
    "                         \"Sandal\",\n",
    "                         \"Shirt\",\n",
    "                         \"Sneaker\",\n",
    "                         \"Bag\",\n",
    "                         \"Ankle Boot\"]\n",
    "\n",
    "CHECKPOINT_NAME = \"saved_models/lenet_check.pth\""
   ]
  },
  {
   "cell_type": "code",
   "execution_count": 3,
   "metadata": {},
   "outputs": [],
   "source": [
    "def view_img_prob(img, prob, y, classes):\n",
    "    \"\"\"Show an image and associated probability distribution\"\"\"\n",
    "    fig, (ax1, ax2) = plt.subplots(figsize=(6, 9), ncols=2)\n",
    "\n",
    "    ax1.imshow(img.numpy().squeeze(), cmap=\"gray\")\n",
    "    ax1.axis('off')\n",
    "    ax2.barh(np.arange(len(classes)), prob)\n",
    "    ax2.set_aspect(0.1)\n",
    "    ax2.set_yticks(np.arange(len(classes)))\n",
    "    ax2.set_yticklabels(classes)\n",
    "    ax2.set_title('Probabilities')\n",
    "    ax2.set_xlim(0, 1.0)\n",
    "    plt.tight_layout()\n",
    "    \n",
    "    print(\"Prediction: {} - Actual: {}\".format(classes[prob.argmax()], classes[y.numpy()]))"
   ]
  },
  {
   "cell_type": "code",
   "execution_count": 4,
   "metadata": {},
   "outputs": [],
   "source": [
    "def predict_one(model, loader):\n",
    "    \"\"\"Use the model to predict the class of the first image returned by the dataloader\"\"\"\n",
    "    # Grab the first batch\n",
    "    load_iter = iter(loader)\n",
    "    X, y = load_iter.next()\n",
    "\n",
    "    # Predict\n",
    "    with torch.no_grad():\n",
    "        if USE_LOGSOFTMAX:\n",
    "            logsoftmax = model.forward(X)\n",
    "            softmax = torch.exp(logsoftmax)\n",
    "        else:\n",
    "            logits = model.forward(X)\n",
    "            softmax = F.softmax(logits, dim=-1)\n",
    "    \n",
    "    softmax = softmax.numpy()\n",
    "\n",
    "    # Show one image\n",
    "    print(\"Softmax: {}\".format(softmax[0]))\n",
    "    view_img_prob(X[0], softmax[0], y[0], classes=CLASSES)"
   ]
  },
  {
   "cell_type": "markdown",
   "metadata": {},
   "source": [
    "# Create dataloaders\n",
    "Data is loaded if not already present."
   ]
  },
  {
   "cell_type": "code",
   "execution_count": 5,
   "metadata": {},
   "outputs": [],
   "source": [
    "# Prepare image pre-processing\n",
    "trans = transforms.Compose([transforms.ToTensor(),\n",
    "                            transforms.Normalize(mean=(0.5,), std=(0.5,))\n",
    "                           ])\n",
    "\n",
    "# Create the training data class\n",
    "if USE_MNIST:\n",
    "    train = datasets.MNIST(\"MNIST\", download=True, train=True, transform=trans)\n",
    "    test = datasets.MNIST(\"MNIST\", download=True, train=False, transform=trans)    \n",
    "    CLASSES = MNIST_CLASSES\n",
    "else:\n",
    "    train = datasets.FashionMNIST(\"FashionMNIST\", download=True, train=True, transform=trans)\n",
    "    test = datasets.FashionMNIST(\"FashionMNIST\", download=True, train=False, transform=trans)    \n",
    "    CLASSES = FASHION_MNIST_CLASSES\n",
    "    \n",
    "# Create the DataLoaders\n",
    "train_loader = torch.utils.data.DataLoader(train, batch_size=BATCH_SIZE, shuffle=True)\n",
    "test_loader = torch.utils.data.DataLoader(test, batch_size=BATCH_SIZE, shuffle=True)"
   ]
  },
  {
   "cell_type": "markdown",
   "metadata": {},
   "source": [
    "# Show an image\n",
    "Simply use the first image just to have a look."
   ]
  },
  {
   "cell_type": "code",
   "execution_count": 6,
   "metadata": {},
   "outputs": [
    {
     "name": "stdout",
     "output_type": "stream",
     "text": [
      "Class: Ankle Boot\n"
     ]
    },
    {
     "data": {
      "image/png": "[encoded data removed]",
      "text/plain": [
       "<Figure size 432x288 with 1 Axes>"
      ]
     },
     "metadata": {},
     "output_type": "display_data"
    }
   ],
   "source": [
    "train_iter = iter(train_loader)\n",
    "imgs, labels = train_iter.next()\n",
    "plt.imshow(imgs[0].numpy().squeeze(), cmap=\"gray\")\n",
    "print(\"Class: {}\".format(CLASSES[labels[0]]))"
   ]
  },
  {
   "cell_type": "markdown",
   "metadata": {},
   "source": [
    "# Build the network\n",
    "Not quite exactly the same as in the paper, but close enough. Does not use any special weight initalizers, just whatever PyTorch uses by default."
   ]
  },
  {
   "cell_type": "code",
   "execution_count": 7,
   "metadata": {},
   "outputs": [],
   "source": [
    "class Flatten(nn.Module):\n",
    "    def forward(self, x):\n",
    "        x = x.view(x.size()[0], -1)\n",
    "\n",
    "        return x\n",
    "    \n",
    "class LeNet5(nn.Module):\n",
    "    def __init__(self, num_channels):\n",
    "        super(LeNet5, self).__init__()\n",
    "        \n",
    "        self.c1 = nn.Conv2d(in_channels=num_channels, out_channels=6, kernel_size=(5,5), padding=2)\n",
    "        self.c3 = nn.Conv2d(in_channels=6, out_channels=16, kernel_size=(5, 5))\n",
    "        self.c5 = nn.Conv2d(in_channels=16, out_channels=120, kernel_size=(5, 5))\n",
    "        self.f6 = nn.Linear(in_features=120, out_features=84)\n",
    "        self.the_output = nn.Linear(in_features=84, out_features=10)        \n",
    "\n",
    "    def forward(self, x):\n",
    "        # C1, S2\n",
    "        x = F.tanh(self.c1(x))\n",
    "        x = F.max_pool2d(x, kernel_size=(2, 2), stride=(2, 2))\n",
    "\n",
    "        # C3, S4\n",
    "        x = F.tanh(self.c3(x))\n",
    "        x = F.max_pool2d(x, kernel_size=(2, 2), stride=(2, 2))\n",
    "        \n",
    "        # C5\n",
    "        x = self.c5(x)\n",
    "        x = F.tanh(x)\n",
    "        \n",
    "        # Flatten\n",
    "        x = Flatten().forward(x)\n",
    "\n",
    "        # F6\n",
    "        x = F.tanh(self.f6(x))\n",
    "        \n",
    "        # OUTPUT\n",
    "        x = self.the_output(x)\n",
    "        \n",
    "        # Either return the logits or the logsoftmax. In case of the former apply softmax\n",
    "        # to the logits to get the pobability distribution during inference. For the latter\n",
    "        # raise exp to the power of the logits\n",
    "        if USE_LOGSOFTMAX:\n",
    "            x = F.log_softmax(x, dim=-1)\n",
    "        \n",
    "        return x"
   ]
  },
  {
   "cell_type": "markdown",
   "metadata": {},
   "source": [
    "# Show the trainable layers"
   ]
  },
  {
   "cell_type": "code",
   "execution_count": 8,
   "metadata": {},
   "outputs": [
    {
     "data": {
      "text/plain": [
       "LeNet5(\n",
       "  (c1): Conv2d(1, 6, kernel_size=(5, 5), stride=(1, 1), padding=(2, 2))\n",
       "  (c3): Conv2d(6, 16, kernel_size=(5, 5), stride=(1, 1))\n",
       "  (c5): Conv2d(16, 120, kernel_size=(5, 5), stride=(1, 1))\n",
       "  (f6): Linear(in_features=120, out_features=84, bias=True)\n",
       "  (the_output): Linear(in_features=84, out_features=10, bias=True)\n",
       ")"
      ]
     },
     "execution_count": 8,
     "metadata": {},
     "output_type": "execute_result"
    }
   ],
   "source": [
    "lenet = LeNet5(IMG_NUM_CHANNELS)\n",
    "lenet"
   ]
  },
  {
   "cell_type": "markdown",
   "metadata": {},
   "source": [
    "# Predictions without training\n",
    "Pretty much a uniform distribution."
   ]
  },
  {
   "cell_type": "code",
   "execution_count": 9,
   "metadata": {},
   "outputs": [
    {
     "name": "stdout",
     "output_type": "stream",
     "text": [
      "Softmax: [0.10368662 0.09822106 0.10025024 0.09244755 0.10339945 0.09585794\n",
      " 0.10259561 0.1097284  0.09002805 0.10378511]\n",
      "Prediction: Sneaker - Actual: Dress\n"
     ]
    },
    {
     "data": {
      "image/png": "[encoded data removed]",
      "text/plain": [
       "<Figure size 432x648 with 2 Axes>"
      ]
     },
     "metadata": {},
     "output_type": "display_data"
    }
   ],
   "source": [
    "predict_one(lenet, train_loader)"
   ]
  },
  {
   "cell_type": "markdown",
   "metadata": {},
   "source": [
    "# Train the model"
   ]
  },
  {
   "cell_type": "code",
   "execution_count": 10,
   "metadata": {},
   "outputs": [],
   "source": [
    "def validate(model, val_loader):\n",
    "    \"\"\"Calculate loss and accuracy of the model on the entire validation set\"\"\"\n",
    "    model.eval()\n",
    "    loss = 0\n",
    "    count = 0\n",
    "    correct = 0\n",
    "\n",
    "    with torch.no_grad():\n",
    "        for X_val, y_val in val_loader:\n",
    "            output = model.forward(X_val)\n",
    "            loss += crit(output, y_val)\n",
    "\n",
    "            if USE_LOGSOFTMAX:\n",
    "                pred = torch.exp(output)\n",
    "            else:\n",
    "                pred = F.softmax(output, dim=-1)\n",
    "\n",
    "            # Compare the actual labels to the argmax of the predictions\n",
    "            count += len(X_val)\n",
    "            correct += (y_val == pred.max(dim=-1)[1]).sum().item()\n",
    "\n",
    "    model.train()\n",
    "\n",
    "    return loss/len(val_loader), correct/count"
   ]
  },
  {
   "cell_type": "code",
   "execution_count": 11,
   "metadata": {},
   "outputs": [],
   "source": [
    "def train_model(model, crit, opt, trn_loader, val_loader):\n",
    "    \"\"\"Train the model using the provided loss function, optimiser, training set\n",
    "    data loader and validation set data loader\"\"\"\n",
    "    start_time = time.time()\n",
    "    model.zero_grad()\n",
    "\n",
    "    for e in range(NUM_EPOCH):\n",
    "        total_correct = 0\n",
    "        total_count = 0\n",
    "        total_loss = 0\n",
    "        run_loss = 0\n",
    "        batch = 0\n",
    "        \n",
    "        print(\"\\nEpoch: {}/{}\".format(e+1, NUM_EPOCH))\n",
    "        print(\"=======================\")\n",
    "\n",
    "        for batch, (X, y) in enumerate(trn_loader, 0):\n",
    "            model.train()\n",
    "            opt.zero_grad()\n",
    "\n",
    "            # Forward, backward and optimise\n",
    "            output = model.forward(X)\n",
    "            loss = crit(output, y)\n",
    "            loss.backward()\n",
    "            opt.step()\n",
    "\n",
    "            # Convert to probabilities\n",
    "            if USE_LOGSOFTMAX:\n",
    "                pred = torch.exp(output)\n",
    "            else:\n",
    "                pred = F.softmax(output, dim=-1)\n",
    "            \n",
    "            # Keep track of metrics\n",
    "            correct = (y == pred.max(dim=-1)[1]).sum().item()\n",
    "            total_count += len(X)\n",
    "            total_correct += correct\n",
    "            total_loss += loss\n",
    "            run_loss += loss\n",
    "            \n",
    "            if batch % LOG_EVERY == (LOG_EVERY-1):\n",
    "                val_loss, val_acc = validate(model, val_loader)\n",
    "\n",
    "                # Print batch stats\n",
    "                print(\"Batch {:04d}/{:04d} - Trn_loss: {:.4f}, Trn_acc: {:6.2f}% -\".format(batch+1, len(trn_loader), run_loss/LOG_EVERY, 100*(correct/len(X))),\n",
    "                      \"Val_loss: {:.4f}, Val_acc: {:6.2f}%\".format(val_loss, 100*val_acc))\n",
    "                \n",
    "                run_loss = 0\n",
    "\n",
    "        # Print epoch stats\n",
    "        val_loss, val_acc = validate(model, val_loader)\n",
    "        print(\"\\n                  Trn_loss: {:.4f}, Trn_acc: {:6.2f}% -\".format(total_loss/len(trn_loader), 100*(total_correct/total_count)),\n",
    "              \"Val_loss: {:.4f}, Val_acc: {:6.2f}%\".format(val_loss, 100*val_acc))\n",
    "\n",
    "    print(\"\\nTraining complete, elapsed time: {:2f}min.\".format((time.time() - start_time)/60))"
   ]
  },
  {
   "cell_type": "code",
   "execution_count": 12,
   "metadata": {},
   "outputs": [
    {
     "name": "stdout",
     "output_type": "stream",
     "text": [
      "\n",
      "Epoch: 1/3\n",
      "=======================\n",
      "Batch 0100/0938 - Trn_loss: 1.0716, Trn_acc:  73.44% - Val_loss: 0.7257, Val_acc:  72.10%\n",
      "Batch 0200/0938 - Trn_loss: 0.6185, Trn_acc:  84.38% - Val_loss: 0.6048, Val_acc:  76.92%\n",
      "Batch 0300/0938 - Trn_loss: 0.5414, Trn_acc:  81.25% - Val_loss: 0.5328, Val_acc:  80.45%\n",
      "Batch 0400/0938 - Trn_loss: 0.4924, Trn_acc:  85.94% - Val_loss: 0.4972, Val_acc:  81.88%\n",
      "Batch 0500/0938 - Trn_loss: 0.4607, Trn_acc:  84.38% - Val_loss: 0.4853, Val_acc:  82.38%\n",
      "Batch 0600/0938 - Trn_loss: 0.4410, Trn_acc:  78.12% - Val_loss: 0.4439, Val_acc:  83.70%\n",
      "Batch 0700/0938 - Trn_loss: 0.4277, Trn_acc:  87.50% - Val_loss: 0.4154, Val_acc:  84.78%\n",
      "Batch 0800/0938 - Trn_loss: 0.4218, Trn_acc:  93.75% - Val_loss: 0.4016, Val_acc:  85.46%\n",
      "Batch 0900/0938 - Trn_loss: 0.3876, Trn_acc:  93.75% - Val_loss: 0.4119, Val_acc:  85.11%\n",
      "\n",
      "                  Trn_loss: 0.5339, Trn_acc:  80.97% - Val_loss: 0.3895, Val_acc:  85.93%\n",
      "\n",
      "Epoch: 2/3\n",
      "=======================\n",
      "Batch 0100/0938 - Trn_loss: 0.3628, Trn_acc:  84.38% - Val_loss: 0.4117, Val_acc:  84.61%\n",
      "Batch 0200/0938 - Trn_loss: 0.3492, Trn_acc:  81.25% - Val_loss: 0.3937, Val_acc:  85.97%\n",
      "Batch 0300/0938 - Trn_loss: 0.3620, Trn_acc:  87.50% - Val_loss: 0.3655, Val_acc:  86.79%\n",
      "Batch 0400/0938 - Trn_loss: 0.3439, Trn_acc:  85.94% - Val_loss: 0.3685, Val_acc:  86.79%\n",
      "Batch 0500/0938 - Trn_loss: 0.3412, Trn_acc:  87.50% - Val_loss: 0.3670, Val_acc:  87.02%\n",
      "Batch 0600/0938 - Trn_loss: 0.3352, Trn_acc:  87.50% - Val_loss: 0.3574, Val_acc:  86.83%\n",
      "Batch 0700/0938 - Trn_loss: 0.3215, Trn_acc:  89.06% - Val_loss: 0.3630, Val_acc:  86.26%\n",
      "Batch 0800/0938 - Trn_loss: 0.3307, Trn_acc:  92.19% - Val_loss: 0.3570, Val_acc:  87.23%\n",
      "Batch 0900/0938 - Trn_loss: 0.3245, Trn_acc:  89.06% - Val_loss: 0.3350, Val_acc:  87.64%\n",
      "\n",
      "                  Trn_loss: 0.3408, Trn_acc:  87.56% - Val_loss: 0.3500, Val_acc:  87.00%\n",
      "\n",
      "Epoch: 3/3\n",
      "=======================\n",
      "Batch 0100/0938 - Trn_loss: 0.3064, Trn_acc:  92.19% - Val_loss: 0.3732, Val_acc:  86.39%\n",
      "Batch 0200/0938 - Trn_loss: 0.3131, Trn_acc:  82.81% - Val_loss: 0.3406, Val_acc:  87.35%\n",
      "Batch 0300/0938 - Trn_loss: 0.2863, Trn_acc:  89.06% - Val_loss: 0.3278, Val_acc:  88.09%\n",
      "Batch 0400/0938 - Trn_loss: 0.2854, Trn_acc:  96.88% - Val_loss: 0.3279, Val_acc:  87.78%\n",
      "Batch 0500/0938 - Trn_loss: 0.3000, Trn_acc:  87.50% - Val_loss: 0.3251, Val_acc:  88.27%\n",
      "Batch 0600/0938 - Trn_loss: 0.2874, Trn_acc:  90.62% - Val_loss: 0.3170, Val_acc:  88.41%\n",
      "Batch 0700/0938 - Trn_loss: 0.3053, Trn_acc:  96.88% - Val_loss: 0.3166, Val_acc:  88.52%\n",
      "Batch 0800/0938 - Trn_loss: 0.2914, Trn_acc:  87.50% - Val_loss: 0.3418, Val_acc:  87.76%\n",
      "Batch 0900/0938 - Trn_loss: 0.2974, Trn_acc:  85.94% - Val_loss: 0.3230, Val_acc:  88.51%\n",
      "\n",
      "                  Trn_loss: 0.2961, Trn_acc:  89.14% - Val_loss: 0.3168, Val_acc:  88.24%\n",
      "\n",
      "Training complete, elapsed time: 2.957500min.\n"
     ]
    }
   ],
   "source": [
    "if USE_LOGSOFTMAX:\n",
    "    crit = nn.NLLoss()\n",
    "else:\n",
    "    crit = nn.CrossEntropyLoss()\n",
    "\n",
    "if USE_SGD:\n",
    "    opt = optim.SGD(lenet.parameters(), lr=0.001, momentum=0.9)\n",
    "else:\n",
    "    opt = optim.Adam(lenet.parameters(), lr=0.001)\n",
    "\n",
    "train_model(lenet, crit, opt, train_loader, test_loader)"
   ]
  },
  {
   "cell_type": "markdown",
   "metadata": {},
   "source": [
    "# Apply the trained model to a test set image"
   ]
  },
  {
   "cell_type": "code",
   "execution_count": 13,
   "metadata": {},
   "outputs": [
    {
     "name": "stdout",
     "output_type": "stream",
     "text": [
      "Softmax: [1.0225976e-05 2.0458156e-06 1.4202833e-05 4.5683528e-06 1.0042678e-05\n",
      " 1.8885045e-04 2.3425357e-05 1.0622413e-02 9.7373697e-05 9.8902684e-01]\n",
      "Prediction: Ankle Boot - Actual: Ankle Boot\n"
     ]
    },
    {
     "data": {
      "image/png": "[encoded data removed]",
      "text/plain": [
       "<Figure size 432x648 with 2 Axes>"
      ]
     },
     "metadata": {},
     "output_type": "display_data"
    }
   ],
   "source": [
    "predict_one(lenet, test_loader)"
   ]
  },
  {
   "cell_type": "markdown",
   "metadata": {},
   "source": [
    "# Save and load"
   ]
  },
  {
   "cell_type": "code",
   "execution_count": 14,
   "metadata": {},
   "outputs": [
    {
     "name": "stdout",
     "output_type": "stream",
     "text": [
      "Softmax: [1.4386135e-03 5.1920488e-05 6.3546978e-02 8.1356114e-04 7.1722269e-02\n",
      " 5.6762688e-05 8.6147857e-01 1.5759648e-05 8.1666780e-04 5.8902671e-05]\n",
      "Prediction: Shirt - Actual: Shirt\n"
     ]
    },
    {
     "data": {
      "image/png": "[encoded data removed]",
      "text/plain": [
       "<Figure size 432x648 with 2 Axes>"
      ]
     },
     "metadata": {},
     "output_type": "display_data"
    }
   ],
   "source": [
    "torch.save(lenet.state_dict(), CHECKPOINT_NAME)\n",
    "state = torch.load(CHECKPOINT_NAME)\n",
    "lenet_new = LeNet5(IMG_NUM_CHANNELS)\n",
    "lenet_new.load_state_dict(state)\n",
    "predict_one(lenet_new, test_loader)"
   ]
  },
  {
   "cell_type": "markdown",
   "metadata": {},
   "source": [
    "# End of notebook"
   ]
  }
 ],
 "metadata": {
  "kernelspec": {
   "display_name": "Python 3",
   "language": "python",
   "name": "python3"
  },
  "language_info": {
   "codemirror_mode": {
    "name": "ipython",
    "version": 3
   },
   "file_extension": ".py",
   "mimetype": "text/x-python",
   "name": "python",
   "nbconvert_exporter": "python",
   "pygments_lexer": "ipython3",
   "version": "3.6.5"
  }
 },
 "nbformat": 4,
 "nbformat_minor": 2
}
